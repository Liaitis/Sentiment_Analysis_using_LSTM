{
  "cells": [
    {
      "cell_type": "markdown",
      "metadata": {
        "id": "fXHcWQG94vw-"
      },
      "source": [
        "## **1. Data Preprocessing :**"
      ]
    },
    {
      "cell_type": "markdown",
      "metadata": {
        "id": "AHayhy6p46he"
      },
      "source": [
        "### **1.1 Importing Libraries and Dataset**"
      ]
    },
    {
      "cell_type": "code",
      "execution_count": null,
      "metadata": {
        "colab": {
          "base_uri": "https://localhost:8080/"
        },
        "id": "XhaaU6-lMNey",
        "outputId": "656fa4f9-235c-404d-a93f-11f6aff92ac8"
      },
      "outputs": [
        {
          "output_type": "stream",
          "name": "stderr",
          "text": [
            "[nltk_data] Downloading package punkt to /root/nltk_data...\n",
            "[nltk_data]   Unzipping tokenizers/punkt.zip.\n",
            "[nltk_data] Downloading package wordnet to /root/nltk_data...\n",
            "[nltk_data] Downloading package stopwords to /root/nltk_data...\n",
            "[nltk_data]   Unzipping corpora/stopwords.zip.\n"
          ]
        }
      ],
      "source": [
        "import re\n",
        "import nltk\n",
        "import pickle\n",
        "import numpy as np\n",
        "import pandas as pd\n",
        "from tqdm import tqdm\n",
        "import matplotlib.pyplot as plt\n",
        "\n",
        "from sklearn.utils import resample\n",
        "from nltk.tokenize import word_tokenize\n",
        "from nltk.stem import WordNetLemmatizer\n",
        "from keras.preprocessing.text import Tokenizer\n",
        "from keras.preprocessing.sequence import pad_sequences\n",
        "nltk.download('punkt')\n",
        "nltk.download('wordnet')\n",
        "nltk.download('stopwords')\n",
        "\n",
        "from sklearn.preprocessing import LabelEncoder\n",
        "from sklearn.model_selection import train_test_split\n",
        "from keras.utils import to_categorical\n",
        "from sklearn.metrics import accuracy_score, f1_score, confusion_matrix\n",
        "from sklearn.metrics import classification_report, confusion_matrix , accuracy_score, recall_score, precision_score, f1_score\n",
        "\n",
        "from keras.optimizers import Adam\n",
        "from tensorflow.keras import regularizers\n",
        "from tensorflow.keras.preprocessing.text import Tokenizer\n",
        "from tensorflow.keras.preprocessing.sequence import pad_sequences\n",
        "from tensorflow.keras.layers import Embedding\n",
        "from tensorflow.keras.models import Sequential, Model, load_model\n",
        "from tensorflow.keras.callbacks import ModelCheckpoint, EarlyStopping\n",
        "from tensorflow.keras.layers import Embedding, LSTM, Dense, SpatialDropout1D, Bidirectional, Conv1D, GlobalMaxPool1D"
      ]
    },
    {
      "cell_type": "code",
      "execution_count": null,
      "metadata": {
        "colab": {
          "base_uri": "https://localhost:8080/"
        },
        "id": "j_3A4e4r34kz",
        "outputId": "ff558ccb-fef8-43b4-f11a-ace6ac1c593c"
      },
      "outputs": [
        {
          "output_type": "stream",
          "name": "stderr",
          "text": [
            "<ipython-input-3-e291e0e4d148>:1: DtypeWarning: Columns (1,2) have mixed types. Specify dtype option on import or set low_memory=False.\n",
            "  new_data = pd.read_csv(\"/content/sentiment.csv\", encoding='latin1')\n"
          ]
        }
      ],
      "source": [
        "new_data = pd.read_csv(\"/content/sentiment.csv\", encoding='latin1')"
      ]
    },
    {
      "cell_type": "markdown",
      "metadata": {
        "id": "imhk5YxK5Huh"
      },
      "source": [
        "### **1.2 Handling Duplicates and Null Values**"
      ]
    },
    {
      "cell_type": "code",
      "execution_count": null,
      "metadata": {
        "colab": {
          "base_uri": "https://localhost:8080/"
        },
        "id": "DVNmBhyftTQr",
        "outputId": "a6417762-db0b-420b-9d9d-fc238506dcc8"
      },
      "outputs": [
        {
          "output_type": "stream",
          "name": "stdout",
          "text": [
            "Count before removing duplicates: 171380\n",
            "Count after removing duplicates: 147523\n"
          ]
        }
      ],
      "source": [
        "count_before = new_data.shape[0]\n",
        "print(\"Count before removing duplicates:\", count_before)\n",
        "\n",
        "duplicates = new_data[new_data.duplicated()]\n",
        "if not duplicates.empty:\n",
        "    new_data.drop_duplicates(inplace=True)\n",
        "    count_after = new_data.shape[0]\n",
        "    print(\"Count after removing duplicates:\", count_after)\n",
        "else:\n",
        "    print(\"No duplicates found.\")"
      ]
    },
    {
      "cell_type": "code",
      "execution_count": null,
      "metadata": {
        "colab": {
          "base_uri": "https://localhost:8080/"
        },
        "id": "5iQD26gvwKSi",
        "outputId": "0b0e4bc4-2f36-4b7c-d590-82d9b893d0b3"
      },
      "outputs": [
        {
          "output_type": "stream",
          "name": "stdout",
          "text": [
            "Null values in new_data:\n",
            "ProductName     0\n",
            "ProductPrice    1\n",
            "Rate            1\n",
            "Review          1\n",
            "Summary         1\n",
            "Sentiment       1\n",
            "dtype: int64\n"
          ]
        }
      ],
      "source": [
        "null_values = new_data.isnull().sum()\n",
        "\n",
        "print(\"Null values in new_data:\")\n",
        "print(null_values)\n"
      ]
    },
    {
      "cell_type": "code",
      "execution_count": null,
      "metadata": {
        "colab": {
          "base_uri": "https://localhost:8080/"
        },
        "id": "H0qHEFWbwR3b",
        "outputId": "13790937-8c8a-4ef2-9147-12a997065dc1"
      },
      "outputs": [
        {
          "output_type": "stream",
          "name": "stdout",
          "text": [
            "Null values after dropping rows:\n",
            "ProductName     0\n",
            "ProductPrice    0\n",
            "Rate            0\n",
            "Review          0\n",
            "Summary         0\n",
            "Sentiment       0\n",
            "dtype: int64\n"
          ]
        }
      ],
      "source": [
        "new_data.dropna(inplace=True)\n",
        "null_values_after_drop = new_data.isnull().sum()\n",
        "\n",
        "print(\"Null values after dropping rows:\")\n",
        "print(null_values_after_drop)\n"
      ]
    },
    {
      "cell_type": "markdown",
      "metadata": {
        "id": "rq1JfjpM5V2O"
      },
      "source": [
        "### **1.3 Text Cleaning and Normalization**"
      ]
    },
    {
      "cell_type": "code",
      "execution_count": null,
      "metadata": {
        "id": "OhJZEhOAOrsU"
      },
      "outputs": [],
      "source": [
        "new_data = new_data[['Summary', 'Sentiment']].copy()"
      ]
    },
    {
      "cell_type": "code",
      "execution_count": null,
      "metadata": {
        "id": "sWpNdfTZPEsC"
      },
      "outputs": [],
      "source": [
        "new_data['Summary'] = new_data['Summary'].str.lower()"
      ]
    },
    {
      "cell_type": "code",
      "source": [
        "text_with_single_quote = new_data['Summary']\n",
        "pattern = r'\\b\\w*\\'\\w*\\b'\n",
        "words_with_single_quote = text_with_single_quote.str.findall(pattern)\n",
        "words_with_single_quote = [word for sublist in words_with_single_quote for word in sublist]\n",
        "print(\"Words containing ':\")\n",
        "print(set(words_with_single_quote))"
      ],
      "metadata": {
        "colab": {
          "base_uri": "https://localhost:8080/"
        },
        "id": "RXjV--zL8VpE",
        "outputId": "d2f899f0-2113-4421-ab08-909f63d89907"
      },
      "execution_count": null,
      "outputs": [
        {
          "output_type": "stream",
          "name": "stdout",
          "text": [
            "Words containing ':\n",
            "{\"purchaseit's\", \"don't\", \"smartwatchit's\", \"they'll\", \"i'll\", \"timedon't\", \"monyit's\", \"aren't\", \"you'll\", \"sleeve's\", \"that's\", \"son's\", \"i'm\", \"isn't\", \"won't\", \"didn't\", \"moneydon't\", \"people's\", \"i've\", \"we'll\", \"tyre's\", \"jean's\", \"there's\", \"it'll\", \"today's\", \"athlete's\", \"let's\", \"ondon't\", \"it's\", \"worksit's\", \"haven't\", \"money's\", \"productdon't\", \"can't\", \"hour's\", \"shouldn't\", \"watchdon't\", \"did't\", \"month's\", \"cann't\", \"providedit's\", \"wouldn't\", \"battery's\", \"india's\", \"fastdon't\", \"doesn't\", \"one's\", \"wasn't\", \"qualitydon't\", \"5'10\", \"cycle's\", \"couldn't\", \"day's\", \"quicklyi'm\", \"person's\"}\n"
          ]
        }
      ]
    },
    {
      "cell_type": "code",
      "execution_count": null,
      "metadata": {
        "id": "pkl7mh9EiIu-"
      },
      "outputs": [],
      "source": [
        "CONTRACTION_MAPPING = {\"ain't\": \"is not\", \"aren't\": \"are not\",\"can't\": \"cannot\", \"cant\": \"cannot\",\n",
        "                   \"can't've\": \"cannot have\", \"'cause\": \"because\", \"could've\": \"could have\",\n",
        "                   \"couldn't\": \"could not\", \"couldn't've\": \"could not have\",\"didn't\": \"did not\",\n",
        "                   \"doesn't\": \"does not\", \"don't\": \"do not\", \"hadn't\": \"had not\",\n",
        "                   \"hadn't've\": \"had not have\", \"hasn't\": \"has not\", \"haven't\": \"have not\",\n",
        "                   \"he'd\": \"he would\", \"he'd've\": \"he would have\", \"he'll\": \"he will\",\n",
        "                   \"he'll've\": \"he will have\", \"he's\": \"he is\", \"how'd\": \"how did\",\n",
        "                   \"how'd'y\": \"how do you\", \"how'll\": \"how will\", \"how's\": \"how is\",\n",
        "                   \"I'd\": \"I would\", \"I'd've\": \"I would have\", \"I'll\": \"I will\",\n",
        "                   \"I'll've\": \"I will have\",\"I'm\": \"I am\", \"I've\": \"I have\",\n",
        "                   \"i'd\": \"i would\", \"i'd've\": \"i would have\", \"i'll\": \"i will\",\n",
        "                   \"i'll've\": \"i will have\",\"i'm\": \"i am\", \"i've\": \"i have\",\n",
        "                   \"isn't\": \"is not\", \"it'd\": \"it would\", \"it'd've\": \"it would have\",\n",
        "                   \"it'll\": \"it will\", \"it'll've\": \"it will have\",\"it's\": \"it is\",\n",
        "                   \"let's\": \"let us\", \"ma'am\": \"madam\", \"mayn't\": \"may not\",\n",
        "                   \"might've\": \"might have\",\"mightn't\": \"might not\",\"mightn't've\": \"might not have\",\n",
        "                   \"must've\": \"must have\", \"mustn't\": \"must not\", \"mustn't've\": \"must not have\",\n",
        "                   \"needn't\": \"need not\", \"needn't've\": \"need not have\",\"o'clock\": \"of the clock\",\n",
        "                   \"oughtn't\": \"ought not\", \"oughtn't've\": \"ought not have\", \"shan't\": \"shall not\",\n",
        "                   \"sha'n't\": \"shall not\", \"shan't've\": \"shall not have\", \"she'd\": \"she would\",\n",
        "                   \"she'd've\": \"she would have\", \"she'll\": \"she will\", \"she'll've\": \"she will have\",\n",
        "                   \"she's\": \"she is\", \"should've\": \"should have\", \"shouldn't\": \"should not\",\n",
        "                   \"shouldn't've\": \"should not have\", \"so've\": \"so have\",\"so's\": \"so as\",\n",
        "                   \"this's\": \"this is\",\n",
        "                   \"that'd\": \"that would\", \"that'd've\": \"that would have\",\"that's\": \"that is\",\n",
        "                   \"there'd\": \"there would\", \"there'd've\": \"there would have\",\"there's\": \"there is\",\n",
        "                       \"here's\": \"here is\",\n",
        "                   \"they'd\": \"they would\", \"they'd've\": \"they would have\", \"they'll\": \"they will\",\n",
        "                   \"they'll've\": \"they will have\", \"they're\": \"they are\", \"they've\": \"they have\",\n",
        "                   \"to've\": \"to have\", \"wasn't\": \"was not\", \"we'd\": \"we would\",\n",
        "                   \"we'd've\": \"we would have\", \"we'll\": \"we will\", \"we'll've\": \"we will have\",\n",
        "                   \"we're\": \"we are\", \"we've\": \"we have\", \"weren't\": \"were not\",\n",
        "                   \"what'll\": \"what will\", \"what'll've\": \"what will have\", \"what're\": \"what are\",\n",
        "                   \"what's\": \"what is\", \"what've\": \"what have\", \"when's\": \"when is\",\n",
        "                   \"when've\": \"when have\", \"where'd\": \"where did\", \"where's\": \"where is\",\n",
        "                   \"where've\": \"where have\", \"who'll\": \"who will\", \"who'll've\": \"who will have\",\n",
        "                   \"who's\": \"who is\", \"who've\": \"who have\", \"why's\": \"why is\",\n",
        "                   \"why've\": \"why have\", \"will've\": \"will have\", \"won't\": \"will not\",\n",
        "                   \"won't've\": \"will not have\", \"would've\": \"would have\", \"wouldn't\": \"would not\",\n",
        "                   \"wouldn't've\": \"would not have\", \"y'all\": \"you all\", \"y'all'd\": \"you all would\",\n",
        "                   \"y'all'd've\": \"you all would have\",\"y'all're\": \"you all are\",\"y'all've\": \"you all have\",\n",
        "                   \"you'd\": \"you would\", \"you'd've\": \"you would have\", \"you'll\": \"you will\",\n",
        "                   \"you'll've\": \"you will have\", \"you're\": \"you are\", \"you've\": \"you have\" }\n",
        "\n",
        "def decontracted(phrase):\n",
        "    phrase = phrase.lower()\n",
        "    for word in phrase.split():\n",
        "        if word in CONTRACTION_MAPPING:\n",
        "            phrase = phrase.replace(word, CONTRACTION_MAPPING[word])\n",
        "\n",
        "    phrase = re.sub(r\"n\\'t\", \" not\", phrase)\n",
        "    phrase = re.sub(r\"\\'re\", \" are\", phrase)\n",
        "    phrase = re.sub(r\"\\'s\", \" is\", phrase)\n",
        "    phrase = re.sub(r\"\\'d\", \" would\", phrase)\n",
        "    phrase = re.sub(r\"\\'ll\", \" will\", phrase)\n",
        "    phrase = re.sub(r\"\\'t\", \" not\", phrase)\n",
        "    phrase = re.sub(r\"\\'ve\", \" have\", phrase)\n",
        "    phrase = re.sub(r\"\\'m\", \" am\", phrase)\n",
        "    phrase = re.sub(r\" v\", \" very\", phrase)\n",
        "\n",
        "    return phrase\n",
        "new_data['Summary'] = new_data['Summary'].apply(decontracted)"
      ]
    },
    {
      "cell_type": "code",
      "execution_count": null,
      "metadata": {
        "colab": {
          "base_uri": "https://localhost:8080/"
        },
        "id": "AGhWCRSdk1IU",
        "outputId": "c333c287-3c13-4631-9b52-7407583ab590"
      },
      "outputs": [
        {
          "output_type": "stream",
          "name": "stdout",
          "text": [
            "Words containing ':\n",
            "{\"5'10\"}\n"
          ]
        }
      ],
      "source": [
        "text_with_single_quote = new_data['Summary']\n",
        "pattern = r'\\b\\w*\\'\\w*\\b'\n",
        "words_with_single_quote = text_with_single_quote.str.findall(pattern)\n",
        "words_with_single_quote = [word for sublist in words_with_single_quote for word in sublist]\n",
        "print(\"Words containing ':\")\n",
        "print(set(words_with_single_quote))"
      ]
    },
    {
      "cell_type": "code",
      "execution_count": null,
      "metadata": {
        "id": "UrAi7hCXPRfm"
      },
      "outputs": [],
      "source": [
        "new_data['Summary'] = new_data['Summary'].apply(lambda x: re.sub('[^a-zA-Z.]', ' ', x))"
      ]
    },
    {
      "cell_type": "code",
      "execution_count": null,
      "metadata": {
        "colab": {
          "base_uri": "https://localhost:8080/"
        },
        "id": "HC0LlguV-Cgv",
        "outputId": "7d11ea1a-0d18-4d9e-f6ea-6232f6c7d18b"
      },
      "outputs": [
        {
          "output_type": "stream",
          "name": "stdout",
          "text": [
            "Unique values in 'Sentiment' column:\n",
            "['positive' 'negative' 'neutral' 'Negative' 'Neutral' 'Positive']\n"
          ]
        }
      ],
      "source": [
        "unique_sentiments = new_data['Sentiment'].unique()\n",
        "print(\"Unique values in 'Sentiment' column:\")\n",
        "print(unique_sentiments)"
      ]
    },
    {
      "cell_type": "code",
      "execution_count": null,
      "metadata": {
        "id": "9_XwqBpmDt9C"
      },
      "outputs": [],
      "source": [
        "new_data['Sentiment'] = new_data['Sentiment'].str.lower()\n",
        "new_data['Sentiment'] = new_data['Sentiment'].str.lower().str.capitalize()"
      ]
    },
    {
      "cell_type": "code",
      "execution_count": null,
      "metadata": {
        "colab": {
          "base_uri": "https://localhost:8080/"
        },
        "id": "NHWd6_80-GPE",
        "outputId": "6b5ec0af-afe3-4186-c420-605d41c92fce"
      },
      "outputs": [
        {
          "output_type": "stream",
          "name": "stdout",
          "text": [
            "Unique values in 'Sentiment' column:\n",
            "['Positive' 'Negative' 'Neutral']\n"
          ]
        }
      ],
      "source": [
        "unique_sentiments = new_data['Sentiment'].unique()\n",
        "print(\"Unique values in 'Sentiment' column:\")\n",
        "print(unique_sentiments)"
      ]
    },
    {
      "cell_type": "code",
      "execution_count": null,
      "metadata": {
        "colab": {
          "base_uri": "https://localhost:8080/",
          "height": 604
        },
        "id": "lgmtAJqI-pOW",
        "outputId": "f5c8491c-6e78-4a3e-f3be-a70a5aa6fd80"
      },
      "outputs": [
        {
          "output_type": "display_data",
          "data": {
            "text/plain": [
              "<Figure size 800x600 with 1 Axes>"
            ],
            "image/png": "[encoded data removed]"
          },
          "metadata": {}
        }
      ],
      "source": [
        "sentiment_counts = new_data['Sentiment'].value_counts()\n",
        "\n",
        "plt.figure(figsize=(8, 6))\n",
        "sentiment_counts.plot(kind='bar', color='skyblue')\n",
        "plt.title('Sentiment Distribution')\n",
        "plt.xlabel('Sentiment')\n",
        "plt.ylabel('Count')\n",
        "plt.xticks(rotation=45)\n",
        "plt.show()"
      ]
    },
    {
      "cell_type": "markdown",
      "metadata": {
        "id": "oh4TGKf_5iLB"
      },
      "source": [
        "## **2. Data Splitting and Balancing**"
      ]
    },
    {
      "cell_type": "markdown",
      "metadata": {
        "id": "ELfxey3i5m6A"
      },
      "source": [
        "### **2.1 Train-Test Split**"
      ]
    },
    {
      "cell_type": "code",
      "execution_count": null,
      "metadata": {
        "colab": {
          "base_uri": "https://localhost:8080/"
        },
        "id": "v3T63szQD-7u",
        "outputId": "6dfbaf48-f5d7-4b81-c912-8cc701803c63"
      },
      "outputs": [
        {
          "output_type": "stream",
          "name": "stdout",
          "text": [
            "Training set shape: (118017, 2) (118017, 2)\n",
            "Testing set shape: (29505, 2) (29505, 2)\n"
          ]
        }
      ],
      "source": [
        "from sklearn.model_selection import train_test_split\n",
        "\n",
        "X = new_data['Summary']\n",
        "y = new_data['Sentiment']\n",
        "df_train, df_test = train_test_split(new_data,test_size=0.2, random_state=42, stratify=new_data['Sentiment'])\n",
        "\n",
        "print(\"Training set shape:\", df_train.shape, df_train.shape)\n",
        "print(\"Testing set shape:\", df_test.shape, df_test.shape)"
      ]
    },
    {
      "cell_type": "markdown",
      "metadata": {
        "id": "BM4fwup85uB-"
      },
      "source": [
        "### **2.2 Balancing Classes**"
      ]
    },
    {
      "cell_type": "code",
      "execution_count": null,
      "metadata": {
        "colab": {
          "base_uri": "https://localhost:8080/"
        },
        "id": "GA0mcQNTEl9n",
        "outputId": "3ccd2b7f-da60-4606-b87c-65130045f9e7"
      },
      "outputs": [
        {
          "output_type": "stream",
          "name": "stdout",
          "text": [
            "Train class distribution after downsampling:\n",
            " Neutral     10625\n",
            "Positive    10625\n",
            "Negative    10625\n",
            "Name: Sentiment, dtype: int64\n"
          ]
        }
      ],
      "source": [
        "from sklearn.utils import resample\n",
        "\n",
        "data_minority = df_train[df_train['Sentiment'] == 'Neutral']\n",
        "data_majority_positive = df_train[df_train['Sentiment'] == 'Positive']\n",
        "data_majority_negative = df_train[df_train['Sentiment'] == 'Negative']\n",
        "\n",
        "minority_size = data_minority.shape[0]\n",
        "\n",
        "data_majority_positive_downsampled = resample(data_majority_positive, replace=False, n_samples=minority_size, random_state=42)\n",
        "data_majority_negative_downsampled = resample(data_majority_negative, replace=False, n_samples=minority_size, random_state=42)\n",
        "\n",
        "train_downsampled = pd.concat([data_minority, data_majority_positive_downsampled, data_majority_negative_downsampled])\n",
        "\n",
        "print(\"Train class distribution after downsampling:\\n\", train_downsampled['Sentiment'].value_counts())\n"
      ]
    },
    {
      "cell_type": "markdown",
      "metadata": {
        "id": "rIsUXJEy51Sv"
      },
      "source": [
        "## **3. Text Preprocessing :**"
      ]
    },
    {
      "cell_type": "markdown",
      "metadata": {
        "id": "n8ttlGbS583C"
      },
      "source": [
        "### **3.1 Text Cleaning**"
      ]
    },
    {
      "cell_type": "code",
      "execution_count": null,
      "metadata": {
        "id": "ga3HWbNjn9Np"
      },
      "outputs": [],
      "source": [
        "lemmatizer = WordNetLemmatizer()\n",
        "\n",
        "def clean_text(text):\n",
        "    replace_white_space = [\"\\n\"]\n",
        "    for s in replace_white_space:\n",
        "        text = text.replace(s, \" \")\n",
        "\n",
        "    replace_punctuation = [\"’\", \"‘\", \"´\", \"`\", \"\\'\", r\"\\'\"]\n",
        "    for s in replace_punctuation:\n",
        "        text = text.replace(s, \"'\")\n",
        "    tokens = word_tokenize(text)\n",
        "    lemmatized_tokens = [lemmatizer.lemmatize(token) for token in tokens]\n",
        "\n",
        "    return ' '.join(lemmatized_tokens)\n",
        "\n",
        "X_train = [clean_text(text) for text in train_downsampled['Summary'].values]\n",
        "X_test = [clean_text(text) for text in df_test['Summary'].values]\n"
      ]
    },
    {
      "cell_type": "markdown",
      "metadata": {
        "id": "BVIauPq36F5p"
      },
      "source": [
        "### **3.2 Tokenization and Padding**"
      ]
    },
    {
      "cell_type": "code",
      "execution_count": null,
      "metadata": {
        "id": "HgCjcNpDKfza"
      },
      "outputs": [],
      "source": [
        "tokenizer = Tokenizer(lower=False)\n",
        "tokenizer.fit_on_texts(X_train)\n",
        "X_train_sequences = tokenizer.texts_to_sequences(X_train)\n",
        "X_test_sequences = tokenizer.texts_to_sequences(X_test)\n"
      ]
    },
    {
      "cell_type": "code",
      "execution_count": null,
      "metadata": {
        "id": "c6sO55guRzk0"
      },
      "outputs": [],
      "source": [
        "with open('tokenizer.pkl', 'wb') as f:\n",
        "    pickle.dump(tokenizer, f)"
      ]
    },
    {
      "cell_type": "code",
      "execution_count": null,
      "metadata": {
        "colab": {
          "base_uri": "https://localhost:8080/",
          "height": 489
        },
        "id": "vx_YeyW4Ii1q",
        "outputId": "bbba3908-6675-4ea9-e2c8-a722383f7267"
      },
      "outputs": [
        {
          "output_type": "display_data",
          "data": {
            "text/plain": [
              "<Figure size 640x480 with 1 Axes>"
            ],
            "image/png": "[encoded data removed]"
          },
          "metadata": {}
        },
        {
          "output_type": "stream",
          "name": "stdout",
          "text": [
            "Selected maxlen: 37\n"
          ]
        }
      ],
      "source": [
        "train_sequence_lengths = [len(seq) for seq in X_train_sequences]\n",
        "test_sequence_lengths = [len(seq) for seq in X_test_sequences]\n",
        "\n",
        "all_sequence_lengths = train_sequence_lengths + test_sequence_lengths\n",
        "\n",
        "plt.hist(all_sequence_lengths, bins=30)\n",
        "plt.xlabel('Sequence Length')\n",
        "plt.ylabel('Frequency')\n",
        "plt.title('Distribution of Sequence Lengths')\n",
        "plt.show()\n",
        "\n",
        "maxlen = int(np.percentile(all_sequence_lengths, 95))  # Cover 95% of sequences\n",
        "print(\"Selected maxlen:\", maxlen)\n"
      ]
    },
    {
      "cell_type": "code",
      "execution_count": null,
      "metadata": {
        "colab": {
          "base_uri": "https://localhost:8080/"
        },
        "id": "3CU3fqc5dJKL",
        "outputId": "c1516009-39c5-4201-dd36-354a6d084f56"
      },
      "outputs": [
        {
          "output_type": "stream",
          "name": "stdout",
          "text": [
            "Number of Tokens: 14335\n",
            "Max Token Index: 14335 \n",
            "\n",
            "Sample Text Before Processing: not up to the mark\n",
            "Sample Text After Processing: [  0   0   0   0   0   0   0   0   0   0   0   0   0   0   0   0   0   0\n",
            "   0   0   0   0   0   0   0   0   0   0   0   0   0   0   5 114  12   6\n",
            " 196] \n",
            "\n"
          ]
        }
      ],
      "source": [
        "maxlen = 37\n",
        "X_train_padded = pad_sequences(X_train_sequences, padding='pre', maxlen=maxlen)\n",
        "X_test_padded = pad_sequences(X_test_sequences, padding='pre', maxlen=maxlen)\n",
        "\n",
        "print('Number of Tokens:', len(tokenizer.word_index))\n",
        "print(\"Max Token Index:\", X_train_padded.max(), \"\\n\")\n",
        "\n",
        "print('Sample Text Before Processing:', X_train[2390])\n",
        "print('Sample Text After Processing:', X_train_padded[2390], '\\n')\n"
      ]
    },
    {
      "cell_type": "code",
      "execution_count": null,
      "metadata": {
        "id": "-zFXoBKEDbfZ"
      },
      "outputs": [],
      "source": [
        "encoder = LabelEncoder()\n",
        "\n",
        "y_train_encoded = encoder.fit_transform(train_downsampled['Sentiment'])\n",
        "y_train = to_categorical(y_train_encoded)\n",
        "\n",
        "y_test_encoded = encoder.transform(df_test['Sentiment'])\n",
        "y_test = to_categorical(y_test_encoded)"
      ]
    },
    {
      "cell_type": "code",
      "execution_count": null,
      "metadata": {
        "id": "qICLjtxlRfrY"
      },
      "outputs": [],
      "source": [
        "with open('labelencoder.pkl', 'wb') as f:\n",
        "    pickle.dump(encoder, f)\n"
      ]
    },
    {
      "cell_type": "markdown",
      "metadata": {
        "id": "y1VW1vNc6RSx"
      },
      "source": [
        "## **4. Model Building :**"
      ]
    },
    {
      "cell_type": "markdown",
      "metadata": {
        "id": "8hAYP6Ga6ZVO"
      },
      "source": [
        "### **4.1 Loading Pre-trained Word Embeddings**"
      ]
    },
    {
      "cell_type": "code",
      "execution_count": null,
      "metadata": {
        "colab": {
          "base_uri": "https://localhost:8080/"
        },
        "id": "dmhJueJTQZSK",
        "outputId": "6cae660a-ed1e-442c-f84c-44e205561c82"
      },
      "outputs": [
        {
          "output_type": "stream",
          "name": "stdout",
          "text": [
            "--2024-03-07 00:51:02--  http://nlp.stanford.edu/data/glove.6B.zip\n",
            "Resolving nlp.stanford.edu (nlp.stanford.edu)... 171.64.67.140\n",
            "Connecting to nlp.stanford.edu (nlp.stanford.edu)|171.64.67.140|:80... connected.\n",
            "HTTP request sent, awaiting response... 302 Found\n",
            "Location: https://nlp.stanford.edu/data/glove.6B.zip [following]\n",
            "--2024-03-07 00:51:02--  https://nlp.stanford.edu/data/glove.6B.zip\n",
            "Connecting to nlp.stanford.edu (nlp.stanford.edu)|171.64.67.140|:443... connected.\n",
            "HTTP request sent, awaiting response... 301 Moved Permanently\n",
            "Location: https://downloads.cs.stanford.edu/nlp/data/glove.6B.zip [following]\n",
            "--2024-03-07 00:51:03--  https://downloads.cs.stanford.edu/nlp/data/glove.6B.zip\n",
            "Resolving downloads.cs.stanford.edu (downloads.cs.stanford.edu)... 171.64.64.22\n",
            "Connecting to downloads.cs.stanford.edu (downloads.cs.stanford.edu)|171.64.64.22|:443... connected.\n",
            "HTTP request sent, awaiting response... 200 OK\n",
            "Length: 862182613 (822M) [application/zip]\n",
            "Saving to: ‘glove.6B.zip’\n",
            "\n",
            "glove.6B.zip        100%[===================>] 822.24M  5.13MB/s    in 2m 39s  \n",
            "\n",
            "2024-03-07 00:53:43 (5.16 MB/s) - ‘glove.6B.zip’ saved [862182613/862182613]\n",
            "\n",
            "Archive:  glove.6B.zip\n",
            "  inflating: glove.6B.50d.txt        \n",
            "  inflating: glove.6B.100d.txt       \n",
            "  inflating: glove.6B.200d.txt       \n",
            "  inflating: glove.6B.300d.txt       \n"
          ]
        }
      ],
      "source": [
        "!wget http://nlp.stanford.edu/data/glove.6B.zip\n",
        "!unzip glove.6B.zip"
      ]
    },
    {
      "cell_type": "code",
      "execution_count": null,
      "metadata": {
        "id": "MChPSGU4QgGr"
      },
      "outputs": [],
      "source": [
        "from tensorflow.keras.layers import Embedding\n",
        "\n",
        "def load_glove_embeddings(embedding_path, word_index, embedding_dim):\n",
        "    embeddings_index = {}\n",
        "    with open(embedding_path, 'r', encoding='utf-8') as f:\n",
        "        for line in f:\n",
        "            values = line.split()\n",
        "            word = values[0]\n",
        "            coefs = np.asarray(values[1:], dtype='float32')\n",
        "            embeddings_index[word] = coefs\n",
        "\n",
        "    embedding_matrix = np.zeros((len(word_index) + 1, embedding_dim))\n",
        "    for word, i in word_index.items():\n",
        "        embedding_vector = embeddings_index.get(word)\n",
        "        if embedding_vector is not None:\n",
        "            embedding_matrix[i] = embedding_vector\n",
        "    return embedding_matrix\n",
        "\n",
        "embedding_dim = 100\n",
        "embedding_path = '/content/glove.6B.100d.txt'\n",
        "\n",
        "embedding_matrix = load_glove_embeddings(embedding_path, tokenizer.word_index, embedding_dim)"
      ]
    },
    {
      "cell_type": "code",
      "execution_count": null,
      "metadata": {
        "colab": {
          "base_uri": "https://localhost:8080/"
        },
        "id": "5OH90c7vYDzx",
        "outputId": "0d2a8d7d-0276-4a1e-850a-15f59d623e5a"
      },
      "outputs": [
        {
          "output_type": "execute_result",
          "data": {
            "text/plain": [
              "(14336, 100)"
            ]
          },
          "metadata": {},
          "execution_count": 27
        }
      ],
      "source": [
        "embedding_matrix.shape"
      ]
    },
    {
      "cell_type": "markdown",
      "metadata": {
        "id": "F1ddkkjn6f1C"
      },
      "source": [
        "### **4.2 Defining LSTM Model Architecture**"
      ]
    },
    {
      "cell_type": "code",
      "execution_count": null,
      "metadata": {
        "colab": {
          "base_uri": "https://localhost:8080/",
          "height": 1000
        },
        "id": "ACjPjMgeR1lU",
        "outputId": "026bb489-95ba-41ce-96fc-5fbaf0c4d550"
      },
      "outputs": [
        {
          "output_type": "stream",
          "name": "stdout",
          "text": [
            "Model: \"sequential_2\"\n",
            "_________________________________________________________________\n",
            " Layer (type)                Output Shape              Param #   \n",
            "=================================================================\n",
            " embedding_2 (Embedding)     (None, 37, 100)           1433600   \n",
            "                                                                 \n",
            " spatial_dropout1d_2 (Spati  (None, 37, 100)           0         \n",
            " alDropout1D)                                                    \n",
            "                                                                 \n",
            " bidirectional_4 (Bidirecti  (None, 37, 256)           234496    \n",
            " onal)                                                           \n",
            "                                                                 \n",
            " bidirectional_5 (Bidirecti  (None, 37, 128)           164352    \n",
            " onal)                                                           \n",
            "                                                                 \n",
            " conv1d_2 (Conv1D)           (None, 35, 64)            24640     \n",
            "                                                                 \n",
            " max_pooling1d_2 (MaxPoolin  (None, 17, 64)            0         \n",
            " g1D)                                                            \n",
            "                                                                 \n",
            " global_max_pooling1d_2 (Gl  (None, 64)                0         \n",
            " obalMaxPooling1D)                                               \n",
            "                                                                 \n",
            " dense_6 (Dense)             (None, 128)               8320      \n",
            "                                                                 \n",
            " dense_7 (Dense)             (None, 64)                8256      \n",
            "                                                                 \n",
            " dense_8 (Dense)             (None, 3)                 195       \n",
            "                                                                 \n",
            "=================================================================\n",
            "Total params: 1873859 (7.15 MB)\n",
            "Trainable params: 440259 (1.68 MB)\n",
            "Non-trainable params: 1433600 (5.47 MB)\n",
            "_________________________________________________________________\n",
            "None\n"
          ]
        },
        {
          "output_type": "execute_result",
          "data": {
            "image/png": "[encoded data removed]",
            "text/plain": [
              "<IPython.core.display.Image object>"
            ]
          },
          "metadata": {},
          "execution_count": 48
        }
      ],
      "source": [
        "from tensorflow.keras.layers import LSTM, Dense, Embedding, Bidirectional, SpatialDropout1D, Conv1D, MaxPooling1D, GlobalMaxPooling1D\n",
        "from tensorflow.keras.utils import plot_model\n",
        "\n",
        "maxlen = 37\n",
        "\n",
        "model = Sequential()\n",
        "model.add(Embedding(input_dim=len(tokenizer.word_index) + 1,\n",
        "                    output_dim=embedding_dim,\n",
        "                    weights=[embedding_matrix],\n",
        "                    input_length=maxlen,\n",
        "                    trainable=False))\n",
        "model.add(SpatialDropout1D(0.1))\n",
        "model.add(Bidirectional(LSTM(128, return_sequences=True)))\n",
        "model.add(Bidirectional(LSTM(64, return_sequences=True)))\n",
        "model.add(Conv1D(64, kernel_size=3, activation='relu'))\n",
        "model.add(MaxPooling1D(pool_size=2))\n",
        "model.add(GlobalMaxPooling1D())\n",
        "model.add(Dense(128, activation='relu'))\n",
        "model.add(Dense(64, activation='relu'))\n",
        "model.add(Dense(3, activation='softmax'))\n",
        "\n",
        "print(model.summary())\n",
        "\n",
        "with open('model_summary.txt', 'w') as f:\n",
        "    model.summary(print_fn=lambda x: f.write(x + '\\n'))\n",
        "\n",
        "plot_model(model, to_file='model_flowchart.png', show_shapes=True, show_layer_names=False)\n"
      ]
    },
    {
      "cell_type": "markdown",
      "metadata": {
        "id": "A3V-3HVY6qaA"
      },
      "source": [
        "### **4.3 Compiling the Model**"
      ]
    },
    {
      "cell_type": "code",
      "execution_count": null,
      "metadata": {
        "id": "CSgFshPF6tmg"
      },
      "outputs": [],
      "source": [
        "custom_lr = 0.0001\n",
        "optimizer = Adam(learning_rate=custom_lr)\n",
        "\n",
        "model.compile(loss='categorical_crossentropy', optimizer=optimizer, metrics=['accuracy'])"
      ]
    },
    {
      "cell_type": "markdown",
      "metadata": {
        "id": "oediXmLn65yS"
      },
      "source": [
        "## **5. Model Training and Evaluation :**"
      ]
    },
    {
      "cell_type": "markdown",
      "metadata": {
        "id": "X85-SMWV7Iux"
      },
      "source": [
        "### **5.1 Training the Model**"
      ]
    },
    {
      "cell_type": "code",
      "execution_count": null,
      "metadata": {
        "colab": {
          "base_uri": "https://localhost:8080/"
        },
        "id": "iGSvLHt47SX0",
        "outputId": "1ea56a3f-da8d-400c-827c-77eecc213e2f"
      },
      "outputs": [
        {
          "output_type": "stream",
          "name": "stdout",
          "text": [
            "Epoch 1/30\n",
            "247/250 [============================>.] - ETA: 0s - loss: 0.1540 - accuracy: 0.9440\n",
            "Epoch 1: val_accuracy improved from -inf to 0.85823, saving model to best_model.h5\n",
            "250/250 [==============================] - 17s 25ms/step - loss: 0.1540 - accuracy: 0.9440 - val_loss: 0.6246 - val_accuracy: 0.8582\n",
            "Epoch 2/30\n",
            "  5/250 [..............................] - ETA: 3s - loss: 0.1604 - accuracy: 0.9406"
          ]
        },
        {
          "output_type": "stream",
          "name": "stderr",
          "text": [
            "/usr/local/lib/python3.10/dist-packages/keras/src/engine/training.py:3103: UserWarning: You are saving your model as an HDF5 file via `model.save()`. This file format is considered legacy. We recommend using instead the native Keras format, e.g. `model.save('my_model.keras')`.\n",
            "  saving_api.save_model(\n"
          ]
        },
        {
          "output_type": "stream",
          "name": "stdout",
          "text": [
            "247/250 [============================>.] - ETA: 0s - loss: 0.1535 - accuracy: 0.9428\n",
            "Epoch 2: val_accuracy did not improve from 0.85823\n",
            "250/250 [==============================] - 5s 19ms/step - loss: 0.1531 - accuracy: 0.9430 - val_loss: 0.6245 - val_accuracy: 0.8577\n",
            "Epoch 3/30\n",
            "250/250 [==============================] - ETA: 0s - loss: 0.1523 - accuracy: 0.9430\n",
            "Epoch 3: val_accuracy improved from 0.85823 to 0.85887, saving model to best_model.h5\n",
            "250/250 [==============================] - 8s 31ms/step - loss: 0.1523 - accuracy: 0.9430 - val_loss: 0.6264 - val_accuracy: 0.8589\n",
            "Epoch 4/30\n",
            "248/250 [============================>.] - ETA: 0s - loss: 0.1529 - accuracy: 0.9436\n",
            "Epoch 4: val_accuracy improved from 0.85887 to 0.85901, saving model to best_model.h5\n",
            "250/250 [==============================] - 8s 31ms/step - loss: 0.1529 - accuracy: 0.9436 - val_loss: 0.6266 - val_accuracy: 0.8590\n",
            "Epoch 5/30\n",
            "247/250 [============================>.] - ETA: 0s - loss: 0.1482 - accuracy: 0.9454\n",
            "Epoch 5: val_accuracy improved from 0.85901 to 0.85938, saving model to best_model.h5\n",
            "250/250 [==============================] - 5s 19ms/step - loss: 0.1483 - accuracy: 0.9454 - val_loss: 0.6320 - val_accuracy: 0.8594\n",
            "Epoch 6/30\n",
            "247/250 [============================>.] - ETA: 0s - loss: 0.1521 - accuracy: 0.9440\n",
            "Epoch 6: val_accuracy did not improve from 0.85938\n",
            "250/250 [==============================] - 5s 19ms/step - loss: 0.1522 - accuracy: 0.9438 - val_loss: 0.6280 - val_accuracy: 0.8585\n",
            "Epoch 7/30\n",
            "249/250 [============================>.] - ETA: 0s - loss: 0.1541 - accuracy: 0.9425\n",
            "Epoch 7: val_accuracy did not improve from 0.85938\n",
            "250/250 [==============================] - 8s 31ms/step - loss: 0.1541 - accuracy: 0.9425 - val_loss: 0.6260 - val_accuracy: 0.8593\n",
            "Epoch 8/30\n",
            "248/250 [============================>.] - ETA: 0s - loss: 0.1530 - accuracy: 0.9441\n",
            "Epoch 8: val_accuracy improved from 0.85938 to 0.85952, saving model to best_model.h5\n",
            "250/250 [==============================] - 7s 29ms/step - loss: 0.1528 - accuracy: 0.9442 - val_loss: 0.6274 - val_accuracy: 0.8595\n",
            "Epoch 9/30\n",
            "247/250 [============================>.] - ETA: 0s - loss: 0.1516 - accuracy: 0.9444\n",
            "Epoch 9: val_accuracy did not improve from 0.85952\n",
            "250/250 [==============================] - 5s 19ms/step - loss: 0.1523 - accuracy: 0.9441 - val_loss: 0.6281 - val_accuracy: 0.8587\n",
            "Epoch 10/30\n",
            "247/250 [============================>.] - ETA: 0s - loss: 0.1514 - accuracy: 0.9438\n",
            "Epoch 10: val_accuracy did not improve from 0.85952\n",
            "250/250 [==============================] - 5s 18ms/step - loss: 0.1513 - accuracy: 0.9437 - val_loss: 0.6320 - val_accuracy: 0.8586\n",
            "Epoch 11/30\n",
            "248/250 [============================>.] - ETA: 0s - loss: 0.1534 - accuracy: 0.9436\n",
            "Epoch 11: val_accuracy did not improve from 0.85952\n",
            "250/250 [==============================] - 6s 25ms/step - loss: 0.1535 - accuracy: 0.9435 - val_loss: 0.6365 - val_accuracy: 0.8583\n",
            "Epoch 12/30\n",
            "250/250 [==============================] - ETA: 0s - loss: 0.1501 - accuracy: 0.9452\n",
            "Epoch 12: val_accuracy did not improve from 0.85952\n",
            "250/250 [==============================] - 8s 31ms/step - loss: 0.1501 - accuracy: 0.9452 - val_loss: 0.6361 - val_accuracy: 0.8584\n",
            "Epoch 13/30\n",
            "250/250 [==============================] - ETA: 0s - loss: 0.1513 - accuracy: 0.9454\n",
            "Epoch 13: val_accuracy did not improve from 0.85952\n",
            "250/250 [==============================] - 5s 22ms/step - loss: 0.1513 - accuracy: 0.9454 - val_loss: 0.6369 - val_accuracy: 0.8583\n",
            "Epoch 14/30\n",
            "248/250 [============================>.] - ETA: 0s - loss: 0.1496 - accuracy: 0.9448\n",
            "Epoch 14: val_accuracy did not improve from 0.85952\n",
            "250/250 [==============================] - 5s 19ms/step - loss: 0.1497 - accuracy: 0.9447 - val_loss: 0.6350 - val_accuracy: 0.8587\n",
            "Epoch 15/30\n",
            "249/250 [============================>.] - ETA: 0s - loss: 0.1492 - accuracy: 0.9456\n",
            "Epoch 15: val_accuracy did not improve from 0.85952\n",
            "250/250 [==============================] - 6s 25ms/step - loss: 0.1492 - accuracy: 0.9456 - val_loss: 0.6362 - val_accuracy: 0.8588\n",
            "Epoch 16/30\n",
            "248/250 [============================>.] - ETA: 0s - loss: 0.1501 - accuracy: 0.9452\n",
            "Epoch 16: val_accuracy did not improve from 0.85952\n",
            "250/250 [==============================] - 8s 31ms/step - loss: 0.1501 - accuracy: 0.9452 - val_loss: 0.6406 - val_accuracy: 0.8580\n",
            "Epoch 17/30\n",
            "247/250 [============================>.] - ETA: 0s - loss: 0.1483 - accuracy: 0.9454\n",
            "Epoch 17: val_accuracy did not improve from 0.85952\n",
            "250/250 [==============================] - 6s 24ms/step - loss: 0.1482 - accuracy: 0.9454 - val_loss: 0.6389 - val_accuracy: 0.8584\n",
            "Epoch 18/30\n",
            "250/250 [==============================] - ETA: 0s - loss: 0.1477 - accuracy: 0.9446\n",
            "Epoch 18: val_accuracy did not improve from 0.85952\n",
            "250/250 [==============================] - 5s 18ms/step - loss: 0.1477 - accuracy: 0.9446 - val_loss: 0.6395 - val_accuracy: 0.8581\n",
            "Epoch 19/30\n",
            "248/250 [============================>.] - ETA: 0s - loss: 0.1507 - accuracy: 0.9451\n",
            "Epoch 19: val_accuracy did not improve from 0.85952\n",
            "250/250 [==============================] - 6s 24ms/step - loss: 0.1504 - accuracy: 0.9452 - val_loss: 0.6364 - val_accuracy: 0.8590\n",
            "Epoch 20/30\n",
            "248/250 [============================>.] - ETA: 0s - loss: 0.1492 - accuracy: 0.9446\n",
            "Epoch 20: val_accuracy did not improve from 0.85952\n",
            "250/250 [==============================] - 7s 28ms/step - loss: 0.1492 - accuracy: 0.9446 - val_loss: 0.6382 - val_accuracy: 0.8583\n",
            "Epoch 21/30\n",
            "250/250 [==============================] - ETA: 0s - loss: 0.1472 - accuracy: 0.9454\n",
            "Epoch 21: val_accuracy did not improve from 0.85952\n",
            "250/250 [==============================] - 7s 27ms/step - loss: 0.1472 - accuracy: 0.9454 - val_loss: 0.6399 - val_accuracy: 0.8585\n",
            "Epoch 22/30\n",
            "250/250 [==============================] - ETA: 0s - loss: 0.1489 - accuracy: 0.9448\n",
            "Epoch 22: val_accuracy did not improve from 0.85952\n",
            "250/250 [==============================] - 5s 18ms/step - loss: 0.1489 - accuracy: 0.9448 - val_loss: 0.6394 - val_accuracy: 0.8586\n",
            "Epoch 23/30\n",
            "248/250 [============================>.] - ETA: 0s - loss: 0.1488 - accuracy: 0.9456\n",
            "Epoch 23: val_accuracy did not improve from 0.85952\n",
            "250/250 [==============================] - 5s 18ms/step - loss: 0.1487 - accuracy: 0.9456 - val_loss: 0.6494 - val_accuracy: 0.8558\n",
            "Epoch 24/30\n",
            "250/250 [==============================] - ETA: 0s - loss: 0.1474 - accuracy: 0.9450\n",
            "Epoch 24: val_accuracy did not improve from 0.85952\n",
            "250/250 [==============================] - 8s 30ms/step - loss: 0.1474 - accuracy: 0.9450 - val_loss: 0.6466 - val_accuracy: 0.8574\n",
            "Epoch 25/30\n",
            "248/250 [============================>.] - ETA: 0s - loss: 0.1462 - accuracy: 0.9460\n",
            "Epoch 25: val_accuracy did not improve from 0.85952\n",
            "250/250 [==============================] - 8s 31ms/step - loss: 0.1460 - accuracy: 0.9460 - val_loss: 0.6450 - val_accuracy: 0.8578\n",
            "Epoch 26/30\n",
            "250/250 [==============================] - ETA: 0s - loss: 0.1452 - accuracy: 0.9465\n",
            "Epoch 26: val_accuracy did not improve from 0.85952\n",
            "250/250 [==============================] - 5s 19ms/step - loss: 0.1452 - accuracy: 0.9465 - val_loss: 0.6504 - val_accuracy: 0.8571\n",
            "Epoch 27/30\n",
            "247/250 [============================>.] - ETA: 0s - loss: 0.1459 - accuracy: 0.9459\n",
            "Epoch 27: val_accuracy did not improve from 0.85952\n",
            "250/250 [==============================] - 5s 19ms/step - loss: 0.1459 - accuracy: 0.9460 - val_loss: 0.6451 - val_accuracy: 0.8576\n",
            "Epoch 28/30\n",
            "250/250 [==============================] - ETA: 0s - loss: 0.1468 - accuracy: 0.9459\n",
            "Epoch 28: val_accuracy did not improve from 0.85952\n",
            "250/250 [==============================] - 7s 30ms/step - loss: 0.1468 - accuracy: 0.9459 - val_loss: 0.6472 - val_accuracy: 0.8580\n",
            "Epoch 29/30\n",
            "248/250 [============================>.] - ETA: 0s - loss: 0.1453 - accuracy: 0.9462\n",
            "Epoch 29: val_accuracy did not improve from 0.85952\n",
            "250/250 [==============================] - 7s 28ms/step - loss: 0.1454 - accuracy: 0.9461 - val_loss: 0.6509 - val_accuracy: 0.8578\n",
            "Epoch 30/30\n",
            "248/250 [============================>.] - ETA: 0s - loss: 0.1439 - accuracy: 0.9477\n",
            "Epoch 30: val_accuracy did not improve from 0.85952\n",
            "250/250 [==============================] - 5s 21ms/step - loss: 0.1437 - accuracy: 0.9478 - val_loss: 0.6499 - val_accuracy: 0.8584\n"
          ]
        }
      ],
      "source": [
        "from tensorflow.keras.callbacks import EarlyStopping, ModelCheckpoint\n",
        "\n",
        "# Define early stopping callback\n",
        "early_stopping = EarlyStopping(monitor='val_loss', patience=5, restore_best_weights=True)\n",
        "\n",
        "# Define model checkpoint callback\n",
        "checkpoint_filepath = 'best_model.h5'\n",
        "model_checkpoint = ModelCheckpoint(\n",
        "    filepath=checkpoint_filepath,\n",
        "    monitor='val_accuracy',\n",
        "    mode='max',\n",
        "    save_best_only=True,\n",
        "    save_weights_only=False,\n",
        "    verbose=1\n",
        ")\n",
        "\n",
        "# Train the model with callbacks\n",
        "history = model.fit(\n",
        "    X_train_padded, y_train,\n",
        "    epochs=30,\n",
        "    batch_size=128,\n",
        "    validation_data=(X_test_padded, y_test),\n",
        "    callbacks=[model_checkpoint]\n",
        ")\n"
      ]
    },
    {
      "cell_type": "markdown",
      "metadata": {
        "id": "pHNO88CK7Yl6"
      },
      "source": [
        "### **5.2 Evaluating the Model**"
      ]
    },
    {
      "cell_type": "code",
      "execution_count": null,
      "metadata": {
        "colab": {
          "base_uri": "https://localhost:8080/"
        },
        "id": "NwfPbr8FbW81",
        "outputId": "d3248045-c606-4c1c-dc7c-7d768f00a844"
      },
      "outputs": [
        {
          "output_type": "stream",
          "name": "stdout",
          "text": [
            "923/923 [==============================] - 7s 6ms/step - loss: 0.6274 - accuracy: 0.8595\n",
            "Test Loss: 0.6274470686912537\n",
            "Test Accuracy: 0.8595153093338013\n"
          ]
        }
      ],
      "source": [
        "from tensorflow.keras.models import load_model\n",
        "\n",
        "best_model = load_model(checkpoint_filepath)\n",
        "loss, accuracy = best_model.evaluate(X_test_padded, y_test)\n",
        "print(\"Test Loss:\", loss)\n",
        "print(\"Test Accuracy:\", accuracy)"
      ]
    },
    {
      "cell_type": "code",
      "execution_count": null,
      "metadata": {
        "id": "O_DuebeOAKdo",
        "colab": {
          "base_uri": "https://localhost:8080/",
          "height": 497
        },
        "outputId": "4a78c3f1-6072-4585-97e2-8da935442b81"
      },
      "outputs": [
        {
          "output_type": "display_data",
          "data": {
            "text/plain": [
              "<Figure size 1200x600 with 2 Axes>"
            ],
            "image/png": "[encoded data removed]"
          },
          "metadata": {}
        },
        {
          "output_type": "display_data",
          "data": {
            "text/plain": [
              "<Figure size 640x480 with 0 Axes>"
            ]
          },
          "metadata": {}
        }
      ],
      "source": [
        "plt.figure(figsize=(12, 6))\n",
        "\n",
        "plt.subplot(1, 2, 1)\n",
        "plt.plot(history.history['accuracy'], label='Training Accuracy')\n",
        "plt.plot(history.history['val_accuracy'], label='Validation Accuracy')\n",
        "plt.xlabel('Epoch')\n",
        "plt.ylabel('Accuracy')\n",
        "plt.title('Accuracy')\n",
        "plt.legend()\n",
        "\n",
        "plt.subplot(1, 2, 2)\n",
        "plt.plot(history.history['loss'], label='Training Loss')\n",
        "plt.plot(history.history['val_loss'], label='Validation Loss')\n",
        "plt.xlabel('Epoch')\n",
        "plt.ylabel('Loss')\n",
        "plt.title('Loss')\n",
        "plt.legend()\n",
        "\n",
        "plt.show()\n",
        "plt.savefig('training_plot.png')\n",
        "plt.show()"
      ]
    },
    {
      "cell_type": "markdown",
      "metadata": {
        "id": "RznUHhIy7o6n"
      },
      "source": [
        "## **6. Model Evaluation Metrics :**"
      ]
    },
    {
      "cell_type": "markdown",
      "metadata": {
        "id": "O3hCDwi671LY"
      },
      "source": [
        "### **6.1 Classification Report**"
      ]
    },
    {
      "cell_type": "code",
      "execution_count": null,
      "metadata": {
        "colab": {
          "base_uri": "https://localhost:8080/"
        },
        "id": "dcq59kPj70C6",
        "outputId": "a098cd7a-11b4-4b1f-8ab2-1777b60c5b2c"
      },
      "outputs": [
        {
          "output_type": "stream",
          "name": "stdout",
          "text": [
            "923/923 [==============================] - 8s 7ms/step\n",
            "Overall Accuracy: 0.8595153363836637\n",
            "Overall Recall: 0.8595153363836637\n",
            "Overall Precision: 0.9030656506617027\n",
            "Overall F1 Score: 0.874424584721564\n",
            "\n",
            "Classification Report:\n",
            "              precision    recall  f1-score   support\n",
            "\n",
            "           0       0.90      0.84      0.87      8727\n",
            "           1       0.41      0.78      0.54      2656\n",
            "           2       0.97      0.88      0.93     18122\n",
            "\n",
            "    accuracy                           0.86     29505\n",
            "   macro avg       0.76      0.83      0.78     29505\n",
            "weighted avg       0.90      0.86      0.87     29505\n",
            "\n"
          ]
        }
      ],
      "source": [
        "best_model = load_model(checkpoint_filepath)\n",
        "y_pred_prob = best_model.predict(X_test_padded)\n",
        "y_pred = np.argmax(y_pred_prob, axis=1)\n",
        "y_test_categorical = np.argmax(y_test, axis=1)\n",
        "\n",
        "accuracy = accuracy_score(y_test_categorical, y_pred)\n",
        "recall = recall_score(y_test_categorical, y_pred, average='weighted')\n",
        "precision = precision_score(y_test_categorical, y_pred, average='weighted')\n",
        "f1 = f1_score(y_test_categorical, y_pred, average='weighted')\n",
        "\n",
        "print(\"Overall Accuracy:\", accuracy)\n",
        "print(\"Overall Recall:\", recall)\n",
        "print(\"Overall Precision:\", precision)\n",
        "print(\"Overall F1 Score:\", f1)\n",
        "\n",
        "print(\"\\nClassification Report:\")\n",
        "print(classification_report(y_test_categorical, y_pred))"
      ]
    },
    {
      "cell_type": "code",
      "execution_count": null,
      "metadata": {
        "colab": {
          "base_uri": "https://localhost:8080/"
        },
        "id": "N3wWrDnc6tl0",
        "outputId": "6495a536-c267-4be7-f8bc-4f3d749d1880"
      },
      "outputs": [
        {
          "output_type": "stream",
          "name": "stdout",
          "text": [
            "Confusion Matrix:\n",
            "[[ 7381  1194   152]\n",
            " [  360  2074   222]\n",
            " [  359  1600 16163]]\n"
          ]
        }
      ],
      "source": [
        "conf_matrix = confusion_matrix(y_test_categorical, y_pred)\n",
        "print(\"Confusion Matrix:\")\n",
        "print(conf_matrix)"
      ]
    },
    {
      "cell_type": "code",
      "source": [],
      "metadata": {
        "id": "oi1gkWV5fItT"
      },
      "execution_count": null,
      "outputs": []
    }
  ],
  "metadata": {
    "accelerator": "GPU",
    "colab": {
      "gpuType": "T4",
      "provenance": []
    },
    "kernelspec": {
      "display_name": "Python 3",
      "name": "python3"
    },
    "language_info": {
      "name": "python"
    }
  },
  "nbformat": 4,
  "nbformat_minor": 0
}